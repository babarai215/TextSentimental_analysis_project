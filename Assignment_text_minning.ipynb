{
 "cells": [
  {
   "cell_type": "markdown",
   "id": "e53ab9ca",
   "metadata": {},
   "source": [
    "For Text Mining assignment\n",
    " \n",
    " QUESTION-ONE:\n",
    "1) Perform sentimental analysis on the Elon-musk tweets (Exlon-musk.csv)\n",
    "\n"
   ]
  },
  {
   "cell_type": "code",
   "execution_count": 1,
   "id": "0e5f51a9",
   "metadata": {},
   "outputs": [],
   "source": [
    "# IMPORT LIBRARIES \n",
    "\n",
    "import pandas as pd\n",
    "import numpy as np\n",
    "import matplotlib.pyplot as plt\n",
    "import seaborn as sns\n",
    "from nltk.corpus import stopwords\n",
    "from textblob import TextBlob"
   ]
  },
  {
   "cell_type": "code",
   "execution_count": 2,
   "id": "25b527e1",
   "metadata": {},
   "outputs": [
    {
     "data": {
      "text/html": [
       "<div>\n",
       "<style scoped>\n",
       "    .dataframe tbody tr th:only-of-type {\n",
       "        vertical-align: middle;\n",
       "    }\n",
       "\n",
       "    .dataframe tbody tr th {\n",
       "        vertical-align: top;\n",
       "    }\n",
       "\n",
       "    .dataframe thead th {\n",
       "        text-align: right;\n",
       "    }\n",
       "</style>\n",
       "<table border=\"1\" class=\"dataframe\">\n",
       "  <thead>\n",
       "    <tr style=\"text-align: right;\">\n",
       "      <th></th>\n",
       "      <th>Unnamed: 0</th>\n",
       "      <th>Text</th>\n",
       "    </tr>\n",
       "  </thead>\n",
       "  <tbody>\n",
       "    <tr>\n",
       "      <th>0</th>\n",
       "      <td>1</td>\n",
       "      <td>@kunalb11 I’m an alien</td>\n",
       "    </tr>\n",
       "    <tr>\n",
       "      <th>1</th>\n",
       "      <td>2</td>\n",
       "      <td>@ID_AA_Carmack Ray tracing on Cyberpunk with H...</td>\n",
       "    </tr>\n",
       "    <tr>\n",
       "      <th>2</th>\n",
       "      <td>3</td>\n",
       "      <td>@joerogan @Spotify Great interview!</td>\n",
       "    </tr>\n",
       "    <tr>\n",
       "      <th>3</th>\n",
       "      <td>4</td>\n",
       "      <td>@gtera27 Doge is underestimated</td>\n",
       "    </tr>\n",
       "    <tr>\n",
       "      <th>4</th>\n",
       "      <td>5</td>\n",
       "      <td>@teslacn Congratulations Tesla China for amazi...</td>\n",
       "    </tr>\n",
       "    <tr>\n",
       "      <th>...</th>\n",
       "      <td>...</td>\n",
       "      <td>...</td>\n",
       "    </tr>\n",
       "    <tr>\n",
       "      <th>1994</th>\n",
       "      <td>1995</td>\n",
       "      <td>@flcnhvy True, it sounds so surreal, but the n...</td>\n",
       "    </tr>\n",
       "    <tr>\n",
       "      <th>1995</th>\n",
       "      <td>1996</td>\n",
       "      <td>@PPathole Make sure to read ur terms &amp;amp; con...</td>\n",
       "    </tr>\n",
       "    <tr>\n",
       "      <th>1996</th>\n",
       "      <td>1997</td>\n",
       "      <td>@TeslaGong @PPathole Samwise Gamgee</td>\n",
       "    </tr>\n",
       "    <tr>\n",
       "      <th>1997</th>\n",
       "      <td>1998</td>\n",
       "      <td>@PPathole Altho Dumb and Dumber is &lt;U+0001F525...</td>\n",
       "    </tr>\n",
       "    <tr>\n",
       "      <th>1998</th>\n",
       "      <td>1999</td>\n",
       "      <td>Progress update August 28</td>\n",
       "    </tr>\n",
       "  </tbody>\n",
       "</table>\n",
       "<p>1999 rows × 2 columns</p>\n",
       "</div>"
      ],
      "text/plain": [
       "      Unnamed: 0                                               Text\n",
       "0              1                             @kunalb11 I’m an alien\n",
       "1              2  @ID_AA_Carmack Ray tracing on Cyberpunk with H...\n",
       "2              3                @joerogan @Spotify Great interview!\n",
       "3              4                    @gtera27 Doge is underestimated\n",
       "4              5  @teslacn Congratulations Tesla China for amazi...\n",
       "...          ...                                                ...\n",
       "1994        1995  @flcnhvy True, it sounds so surreal, but the n...\n",
       "1995        1996  @PPathole Make sure to read ur terms &amp; con...\n",
       "1996        1997                @TeslaGong @PPathole Samwise Gamgee\n",
       "1997        1998  @PPathole Altho Dumb and Dumber is <U+0001F525...\n",
       "1998        1999                          Progress update August 28\n",
       "\n",
       "[1999 rows x 2 columns]"
      ]
     },
     "execution_count": 2,
     "metadata": {},
     "output_type": "execute_result"
    }
   ],
   "source": [
    "# UPLOAD DATA\n",
    "\n",
    "df = pd.read_csv('Elon_musk.csv',sep=',', encoding='cp1252')\n",
    "df"
   ]
  },
  {
   "cell_type": "code",
   "execution_count": 3,
   "id": "28d14f92",
   "metadata": {},
   "outputs": [
    {
     "data": {
      "text/html": [
       "<div>\n",
       "<style scoped>\n",
       "    .dataframe tbody tr th:only-of-type {\n",
       "        vertical-align: middle;\n",
       "    }\n",
       "\n",
       "    .dataframe tbody tr th {\n",
       "        vertical-align: top;\n",
       "    }\n",
       "\n",
       "    .dataframe thead th {\n",
       "        text-align: right;\n",
       "    }\n",
       "</style>\n",
       "<table border=\"1\" class=\"dataframe\">\n",
       "  <thead>\n",
       "    <tr style=\"text-align: right;\">\n",
       "      <th></th>\n",
       "      <th>Text</th>\n",
       "    </tr>\n",
       "  </thead>\n",
       "  <tbody>\n",
       "    <tr>\n",
       "      <th>0</th>\n",
       "      <td>@kunalb11 I’m an alien</td>\n",
       "    </tr>\n",
       "    <tr>\n",
       "      <th>1</th>\n",
       "      <td>@ID_AA_Carmack Ray tracing on Cyberpunk with H...</td>\n",
       "    </tr>\n",
       "    <tr>\n",
       "      <th>2</th>\n",
       "      <td>@joerogan @Spotify Great interview!</td>\n",
       "    </tr>\n",
       "    <tr>\n",
       "      <th>3</th>\n",
       "      <td>@gtera27 Doge is underestimated</td>\n",
       "    </tr>\n",
       "    <tr>\n",
       "      <th>4</th>\n",
       "      <td>@teslacn Congratulations Tesla China for amazi...</td>\n",
       "    </tr>\n",
       "    <tr>\n",
       "      <th>...</th>\n",
       "      <td>...</td>\n",
       "    </tr>\n",
       "    <tr>\n",
       "      <th>1994</th>\n",
       "      <td>@flcnhvy True, it sounds so surreal, but the n...</td>\n",
       "    </tr>\n",
       "    <tr>\n",
       "      <th>1995</th>\n",
       "      <td>@PPathole Make sure to read ur terms &amp;amp; con...</td>\n",
       "    </tr>\n",
       "    <tr>\n",
       "      <th>1996</th>\n",
       "      <td>@TeslaGong @PPathole Samwise Gamgee</td>\n",
       "    </tr>\n",
       "    <tr>\n",
       "      <th>1997</th>\n",
       "      <td>@PPathole Altho Dumb and Dumber is &lt;U+0001F525...</td>\n",
       "    </tr>\n",
       "    <tr>\n",
       "      <th>1998</th>\n",
       "      <td>Progress update August 28</td>\n",
       "    </tr>\n",
       "  </tbody>\n",
       "</table>\n",
       "<p>1999 rows × 1 columns</p>\n",
       "</div>"
      ],
      "text/plain": [
       "                                                   Text\n",
       "0                                @kunalb11 I’m an alien\n",
       "1     @ID_AA_Carmack Ray tracing on Cyberpunk with H...\n",
       "2                   @joerogan @Spotify Great interview!\n",
       "3                       @gtera27 Doge is underestimated\n",
       "4     @teslacn Congratulations Tesla China for amazi...\n",
       "...                                                 ...\n",
       "1994  @flcnhvy True, it sounds so surreal, but the n...\n",
       "1995  @PPathole Make sure to read ur terms &amp; con...\n",
       "1996                @TeslaGong @PPathole Samwise Gamgee\n",
       "1997  @PPathole Altho Dumb and Dumber is <U+0001F525...\n",
       "1998                          Progress update August 28\n",
       "\n",
       "[1999 rows x 1 columns]"
      ]
     },
     "execution_count": 3,
     "metadata": {},
     "output_type": "execute_result"
    }
   ],
   "source": [
    "# DROP 'Unnamed: 0' COLUMNS\n",
    "\n",
    "df1=df.drop(['Unnamed: 0'], axis=1)\n",
    "df1"
   ]
  },
  {
   "cell_type": "code",
   "execution_count": 5,
   "id": "428dee6b",
   "metadata": {},
   "outputs": [
    {
     "data": {
      "text/plain": [
       "0                               @kunalb11 i’m an alien\n",
       "1    @id_aa_carmack ray tracing on cyberpunk with h...\n",
       "2                  @joerogan @spotify great interview!\n",
       "3                      @gtera27 doge is underestimated\n",
       "4    @teslacn congratulations tesla china for amazi...\n",
       "Name: Text, dtype: object"
      ]
     },
     "execution_count": 5,
     "metadata": {},
     "output_type": "execute_result"
    }
   ],
   "source": [
    "# CONVERT ALL DATA INTO LOWER CASE\n",
    "\n",
    "df1['Text'] = df1['Text'].apply(lambda x: \" \".join(x.lower() for x in x.split()))\n",
    "df1['Text'].head()"
   ]
  },
  {
   "cell_type": "code",
   "execution_count": 11,
   "id": "f4bccc8c",
   "metadata": {},
   "outputs": [
    {
     "name": "stderr",
     "output_type": "stream",
     "text": [
      "c:\\users\\babar ali\\appdata\\local\\programs\\python\\python37\\lib\\site-packages\\ipykernel_launcher.py:3: FutureWarning: The default value of regex will change from True to False in a future version.\n",
      "  This is separate from the ipykernel package so we can avoid doing imports until\n"
     ]
    },
    {
     "data": {
      "text/plain": [
       "0                                    kunalb11 im alien\n",
       "1    id_aa_carmack ray tracing cyberpunk hdr nextle...\n",
       "2                     joerogan spotify great interview\n",
       "3                          gtera27 doge underestimated\n",
       "4    teslacn congratulations china amazing executio...\n",
       "Name: Text, dtype: object"
      ]
     },
     "execution_count": 11,
     "metadata": {},
     "output_type": "execute_result"
    }
   ],
   "source": [
    "# Removing Punctuation\n",
    "\n",
    "df1['Text'] = df1['Text'].str.replace('[^\\w\\s]','')\n",
    "df1['Text'].head()"
   ]
  },
  {
   "cell_type": "code",
   "execution_count": 12,
   "id": "dda2ea6b",
   "metadata": {},
   "outputs": [
    {
     "data": {
      "text/plain": [
       "0                                    kunalb11 im alien\n",
       "1    id_aa_carmack ray tracing cyberpunk hdr nextle...\n",
       "2                     joerogan spotify great interview\n",
       "3                          gtera27 doge underestimated\n",
       "4    teslacn congratulations china amazing executio...\n",
       "Name: Text, dtype: object"
      ]
     },
     "execution_count": 12,
     "metadata": {},
     "output_type": "execute_result"
    }
   ],
   "source": [
    "# Removal of Stop Words\n",
    "\n",
    "stop = stopwords.words('english')\n",
    "df1['Text'] = df1['Text'].apply(lambda x: \" \".join(x for x in x.split() if x not in stop))\n",
    "df1['Text'].head()"
   ]
  },
  {
   "cell_type": "code",
   "execution_count": 74,
   "id": "3065be1a",
   "metadata": {},
   "outputs": [
    {
     "data": {
      "text/plain": [
       "Neuteral    956\n",
       "Negative    198\n",
       "great        73\n",
       "haha         55\n",
       "good         50\n",
       "sure         41\n",
       "much         38\n",
       "first        37\n",
       "tesla        36\n",
       "true         34\n",
       "dtype: int64"
      ]
     },
     "execution_count": 74,
     "metadata": {},
     "output_type": "execute_result"
    }
   ],
   "source": [
    " # Common word removal\n",
    "    \n",
    "freq = pd.Series(' '.join(df1['Text']).split()).value_counts()[:10]\n",
    "freq"
   ]
  },
  {
   "cell_type": "code",
   "execution_count": 75,
   "id": "06bcabeb",
   "metadata": {},
   "outputs": [
    {
     "data": {
      "text/plain": [
       "0                                                     \n",
       "1                                                     \n",
       "2                           joerogan spotify interview\n",
       "3                                                     \n",
       "4    teslacn congratulation china amazing execution...\n",
       "Name: Text, dtype: object"
      ]
     },
     "execution_count": 75,
     "metadata": {},
     "output_type": "execute_result"
    }
   ],
   "source": [
    "freq = list(freq.index)\n",
    "df1['Text'] = df1['Text'].apply(lambda x: \" \".join(x for x in x.split() if x not in freq))\n",
    "df1['Text'].head()"
   ]
  },
  {
   "cell_type": "code",
   "execution_count": 76,
   "id": "a5928d1b",
   "metadata": {},
   "outputs": [
    {
     "data": {
      "text/plain": [
       "httpstcom8vj2gaofs    1\n",
       "heard                 1\n",
       "protein               1\n",
       "spike                 1\n",
       "cov2                  1\n",
       "identify              1\n",
       "httpstcovbiu7ds4uq    1\n",
       "sarscov2              1\n",
       "accuracy              1\n",
       "accept                1\n",
       "dtype: int64"
      ]
     },
     "execution_count": 76,
     "metadata": {},
     "output_type": "execute_result"
    }
   ],
   "source": [
    "# Rare Words Removal\n",
    "\n",
    "freq1 = pd.Series(' '.join(df1['Text']).split()).value_counts()[-10:]\n",
    "freq1"
   ]
  },
  {
   "cell_type": "code",
   "execution_count": 77,
   "id": "2afe717d",
   "metadata": {},
   "outputs": [
    {
     "data": {
      "text/plain": [
       "0                                                     \n",
       "1                                                     \n",
       "2                           joerogan spotify interview\n",
       "3                                                     \n",
       "4    teslacn congratulation china amazing execution...\n",
       "Name: Text, dtype: object"
      ]
     },
     "execution_count": 77,
     "metadata": {},
     "output_type": "execute_result"
    }
   ],
   "source": [
    "freq1 = list(freq1.index)\n",
    "df1['Text'] = df1['Text'].apply(lambda x: \" \".join(x for x in x.split() if x not in freq1))\n",
    "df1['Text'].head()"
   ]
  },
  {
   "cell_type": "code",
   "execution_count": 78,
   "id": "2d58f9e5",
   "metadata": {},
   "outputs": [
    {
     "data": {
      "text/plain": [
       "WordList([])"
      ]
     },
     "execution_count": 78,
     "metadata": {},
     "output_type": "execute_result"
    }
   ],
   "source": [
    "# Tokenization\n",
    "\n",
    "TextBlob(df1['Text'][1]).words\n"
   ]
  },
  {
   "cell_type": "code",
   "execution_count": 79,
   "id": "c2878716",
   "metadata": {},
   "outputs": [
    {
     "name": "stderr",
     "output_type": "stream",
     "text": [
      "[nltk_data] Error loading punkt: <urlopen error [WinError 10060] A\n",
      "[nltk_data]     connection attempt failed because the connected party\n",
      "[nltk_data]     did not properly respond after a period of time, or\n",
      "[nltk_data]     established connection failed because connected host\n",
      "[nltk_data]     has failed to respond>\n"
     ]
    },
    {
     "data": {
      "text/plain": [
       "False"
      ]
     },
     "execution_count": 79,
     "metadata": {},
     "output_type": "execute_result"
    }
   ],
   "source": [
    "import nltk\n",
    "nltk.download('punkt')"
   ]
  },
  {
   "cell_type": "code",
   "execution_count": 80,
   "id": "ded40cc1",
   "metadata": {},
   "outputs": [
    {
     "data": {
      "text/plain": [
       "0                                                     \n",
       "1                                                     \n",
       "2                           joerogan spotify interview\n",
       "3                                                     \n",
       "4    teslacn congratulation china amazing execution...\n",
       "Name: Text, dtype: object"
      ]
     },
     "execution_count": 80,
     "metadata": {},
     "output_type": "execute_result"
    }
   ],
   "source": [
    "# Lemmatization\n",
    "\n",
    "from textblob import Word\n",
    "\n",
    "df1['Text'] = df1['Text'].apply(lambda x: \" \".join([Word(word).lemmatize() for word in x.split()]))\n",
    "df1['Text'].head()"
   ]
  },
  {
   "cell_type": "code",
   "execution_count": 81,
   "id": "56bcffba",
   "metadata": {},
   "outputs": [
    {
     "data": {
      "text/plain": [
       "0                                    (0.0, 0.0)\n",
       "1                                    (0.0, 0.0)\n",
       "2                                    (0.0, 0.0)\n",
       "3                                    (0.0, 0.0)\n",
       "4    (0.20000000000000004, 0.32222222222222224)\n",
       "Name: Text, dtype: object"
      ]
     },
     "execution_count": 81,
     "metadata": {},
     "output_type": "execute_result"
    }
   ],
   "source": [
    "# Sentiment Analysis\n",
    "\n",
    "df1['Text'][:5].apply(lambda x: TextBlob(x).sentiment)"
   ]
  },
  {
   "cell_type": "code",
   "execution_count": 82,
   "id": "9fe03a2e",
   "metadata": {},
   "outputs": [
    {
     "data": {
      "text/html": [
       "<div>\n",
       "<style scoped>\n",
       "    .dataframe tbody tr th:only-of-type {\n",
       "        vertical-align: middle;\n",
       "    }\n",
       "\n",
       "    .dataframe tbody tr th {\n",
       "        vertical-align: top;\n",
       "    }\n",
       "\n",
       "    .dataframe thead th {\n",
       "        text-align: right;\n",
       "    }\n",
       "</style>\n",
       "<table border=\"1\" class=\"dataframe\">\n",
       "  <thead>\n",
       "    <tr style=\"text-align: right;\">\n",
       "      <th></th>\n",
       "      <th>Text</th>\n",
       "      <th>sentiment</th>\n",
       "    </tr>\n",
       "  </thead>\n",
       "  <tbody>\n",
       "    <tr>\n",
       "      <th>0</th>\n",
       "      <td></td>\n",
       "      <td>0.0</td>\n",
       "    </tr>\n",
       "    <tr>\n",
       "      <th>1</th>\n",
       "      <td></td>\n",
       "      <td>0.0</td>\n",
       "    </tr>\n",
       "    <tr>\n",
       "      <th>2</th>\n",
       "      <td>joerogan spotify interview</td>\n",
       "      <td>0.0</td>\n",
       "    </tr>\n",
       "    <tr>\n",
       "      <th>3</th>\n",
       "      <td></td>\n",
       "      <td>0.0</td>\n",
       "    </tr>\n",
       "    <tr>\n",
       "      <th>4</th>\n",
       "      <td>teslacn congratulation china amazing execution...</td>\n",
       "      <td>0.2</td>\n",
       "    </tr>\n",
       "  </tbody>\n",
       "</table>\n",
       "</div>"
      ],
      "text/plain": [
       "                                                Text  sentiment\n",
       "0                                                           0.0\n",
       "1                                                           0.0\n",
       "2                         joerogan spotify interview        0.0\n",
       "3                                                           0.0\n",
       "4  teslacn congratulation china amazing execution...        0.2"
      ]
     },
     "execution_count": 82,
     "metadata": {},
     "output_type": "execute_result"
    }
   ],
   "source": [
    "#  SENTIMENT STATUS\n",
    "\n",
    "df1['sentiment'] = df1['Text'].apply(lambda x: TextBlob(x).sentiment[0] )\n",
    "df1[['Text','sentiment']].head()"
   ]
  },
  {
   "cell_type": "code",
   "execution_count": 93,
   "id": "76709e06",
   "metadata": {},
   "outputs": [
    {
     "data": {
      "text/html": [
       "<div>\n",
       "<style scoped>\n",
       "    .dataframe tbody tr th:only-of-type {\n",
       "        vertical-align: middle;\n",
       "    }\n",
       "\n",
       "    .dataframe tbody tr th {\n",
       "        vertical-align: top;\n",
       "    }\n",
       "\n",
       "    .dataframe thead th {\n",
       "        text-align: right;\n",
       "    }\n",
       "</style>\n",
       "<table border=\"1\" class=\"dataframe\">\n",
       "  <thead>\n",
       "    <tr style=\"text-align: right;\">\n",
       "      <th></th>\n",
       "      <th>sentiment</th>\n",
       "    </tr>\n",
       "  </thead>\n",
       "  <tbody>\n",
       "    <tr>\n",
       "      <th>0</th>\n",
       "      <td>0.000000</td>\n",
       "    </tr>\n",
       "    <tr>\n",
       "      <th>1</th>\n",
       "      <td>0.000000</td>\n",
       "    </tr>\n",
       "    <tr>\n",
       "      <th>2</th>\n",
       "      <td>0.000000</td>\n",
       "    </tr>\n",
       "    <tr>\n",
       "      <th>3</th>\n",
       "      <td>0.000000</td>\n",
       "    </tr>\n",
       "    <tr>\n",
       "      <th>4</th>\n",
       "      <td>0.200000</td>\n",
       "    </tr>\n",
       "    <tr>\n",
       "      <th>...</th>\n",
       "      <td>...</td>\n",
       "    </tr>\n",
       "    <tr>\n",
       "      <th>1994</th>\n",
       "      <td>0.119444</td>\n",
       "    </tr>\n",
       "    <tr>\n",
       "      <th>1995</th>\n",
       "      <td>0.000000</td>\n",
       "    </tr>\n",
       "    <tr>\n",
       "      <th>1996</th>\n",
       "      <td>0.000000</td>\n",
       "    </tr>\n",
       "    <tr>\n",
       "      <th>1997</th>\n",
       "      <td>0.000000</td>\n",
       "    </tr>\n",
       "    <tr>\n",
       "      <th>1998</th>\n",
       "      <td>0.000000</td>\n",
       "    </tr>\n",
       "  </tbody>\n",
       "</table>\n",
       "<p>1999 rows × 1 columns</p>\n",
       "</div>"
      ],
      "text/plain": [
       "      sentiment\n",
       "0      0.000000\n",
       "1      0.000000\n",
       "2      0.000000\n",
       "3      0.000000\n",
       "4      0.200000\n",
       "...         ...\n",
       "1994   0.119444\n",
       "1995   0.000000\n",
       "1996   0.000000\n",
       "1997   0.000000\n",
       "1998   0.000000\n",
       "\n",
       "[1999 rows x 1 columns]"
      ]
     },
     "execution_count": 93,
     "metadata": {},
     "output_type": "execute_result"
    }
   ],
   "source": [
    "# SENTIMENT STATUS COLUMN MAKE A DATAFRAME \n",
    "\n",
    "df2=df1['sentiment']\n",
    "\n",
    "df3=pd.DataFrame({'sentiment':df2})\n",
    "df3\n"
   ]
  },
  {
   "cell_type": "code",
   "execution_count": 94,
   "id": "ee011177",
   "metadata": {},
   "outputs": [
    {
     "data": {
      "text/html": [
       "<div>\n",
       "<style scoped>\n",
       "    .dataframe tbody tr th:only-of-type {\n",
       "        vertical-align: middle;\n",
       "    }\n",
       "\n",
       "    .dataframe tbody tr th {\n",
       "        vertical-align: top;\n",
       "    }\n",
       "\n",
       "    .dataframe thead th {\n",
       "        text-align: right;\n",
       "    }\n",
       "</style>\n",
       "<table border=\"1\" class=\"dataframe\">\n",
       "  <thead>\n",
       "    <tr style=\"text-align: right;\">\n",
       "      <th></th>\n",
       "      <th>sentiment</th>\n",
       "      <th>sentiment_status</th>\n",
       "    </tr>\n",
       "  </thead>\n",
       "  <tbody>\n",
       "    <tr>\n",
       "      <th>0</th>\n",
       "      <td>0.000000</td>\n",
       "      <td>Neutral</td>\n",
       "    </tr>\n",
       "    <tr>\n",
       "      <th>1</th>\n",
       "      <td>0.000000</td>\n",
       "      <td>Neutral</td>\n",
       "    </tr>\n",
       "    <tr>\n",
       "      <th>2</th>\n",
       "      <td>0.000000</td>\n",
       "      <td>Neutral</td>\n",
       "    </tr>\n",
       "    <tr>\n",
       "      <th>3</th>\n",
       "      <td>0.000000</td>\n",
       "      <td>Neutral</td>\n",
       "    </tr>\n",
       "    <tr>\n",
       "      <th>4</th>\n",
       "      <td>0.200000</td>\n",
       "      <td>positive</td>\n",
       "    </tr>\n",
       "    <tr>\n",
       "      <th>...</th>\n",
       "      <td>...</td>\n",
       "      <td>...</td>\n",
       "    </tr>\n",
       "    <tr>\n",
       "      <th>1994</th>\n",
       "      <td>0.119444</td>\n",
       "      <td>positive</td>\n",
       "    </tr>\n",
       "    <tr>\n",
       "      <th>1995</th>\n",
       "      <td>0.000000</td>\n",
       "      <td>Neutral</td>\n",
       "    </tr>\n",
       "    <tr>\n",
       "      <th>1996</th>\n",
       "      <td>0.000000</td>\n",
       "      <td>Neutral</td>\n",
       "    </tr>\n",
       "    <tr>\n",
       "      <th>1997</th>\n",
       "      <td>0.000000</td>\n",
       "      <td>Neutral</td>\n",
       "    </tr>\n",
       "    <tr>\n",
       "      <th>1998</th>\n",
       "      <td>0.000000</td>\n",
       "      <td>Neutral</td>\n",
       "    </tr>\n",
       "  </tbody>\n",
       "</table>\n",
       "<p>1999 rows × 2 columns</p>\n",
       "</div>"
      ],
      "text/plain": [
       "      sentiment sentiment_status\n",
       "0      0.000000          Neutral\n",
       "1      0.000000          Neutral\n",
       "2      0.000000          Neutral\n",
       "3      0.000000          Neutral\n",
       "4      0.200000         positive\n",
       "...         ...              ...\n",
       "1994   0.119444         positive\n",
       "1995   0.000000          Neutral\n",
       "1996   0.000000          Neutral\n",
       "1997   0.000000          Neutral\n",
       "1998   0.000000          Neutral\n",
       "\n",
       "[1999 rows x 2 columns]"
      ]
     },
     "execution_count": 94,
     "metadata": {},
     "output_type": "execute_result"
    }
   ],
   "source": [
    "# TWEET status\n",
    "df3['sentiment_status'] = df3['sentiment'].apply(lambda x: 'Negative' if x <0 else ('Neutral' if x==0 else 'positive'))\n",
    "\n",
    "df3"
   ]
  },
  {
   "cell_type": "code",
   "execution_count": 96,
   "id": "a7976d44",
   "metadata": {},
   "outputs": [
    {
     "data": {
      "text/plain": [
       "Neutral     1341\n",
       "positive     633\n",
       "Negative      25\n",
       "Name: sentiment_status, dtype: int64"
      ]
     },
     "execution_count": 96,
     "metadata": {},
     "output_type": "execute_result"
    }
   ],
   "source": [
    "# NUMBER OF POSSITIVE, NEGATIVEA AND NEUTRAL TWEET STATUS \n",
    "\n",
    "df3['sentiment_status'].value_counts()"
   ]
  },
  {
   "cell_type": "markdown",
   "id": "d71d0ab8",
   "metadata": {},
   "source": [
    "******************************"
   ]
  },
  {
   "cell_type": "markdown",
   "id": "f8aa273b",
   "metadata": {},
   "source": [
    "**************************"
   ]
  },
  {
   "cell_type": "markdown",
   "id": "da45a0fe",
   "metadata": {},
   "source": [
    "QUESTION  TWO:\n",
    "        \n",
    "1) Extract reviews of any product from ecommerce website like amazon\n",
    "\n",
    "2) Perform emotion mining\n",
    "\n"
   ]
  },
  {
   "cell_type": "code",
   "execution_count": 2,
   "id": "eb7c6df1",
   "metadata": {},
   "outputs": [],
   "source": [
    "# IMPORT LIBRARIES \n",
    "\n",
    "import pandas as pd\n",
    "import numpy as np\n",
    "import matplotlib.pyplot as plt\n",
    "import seaborn as sns\n",
    "from nltk.corpus import stopwords\n",
    "from textblob import TextBlob"
   ]
  },
  {
   "cell_type": "code",
   "execution_count": 4,
   "id": "a215fd2f",
   "metadata": {},
   "outputs": [],
   "source": [
    "# scrapy runspider Scrape_AmazonReviews\\Scrape_AmazonReviews\\spiders\\extract_reviews1.py -o extract_reviews1.csv\n",
    "\n",
    "#  IF WE RUN ABOVE COMMAND ON CMD THIS CREATE .CSV FILE \n",
    "# FIRST I HAVE SCRAPING AMAZON refrigerator REVIEWS DATA FROM AMAZON WEBSITE"
   ]
  },
  {
   "cell_type": "code",
   "execution_count": 3,
   "id": "60154f48",
   "metadata": {},
   "outputs": [
    {
     "data": {
      "text/html": [
       "<div>\n",
       "<style scoped>\n",
       "    .dataframe tbody tr th:only-of-type {\n",
       "        vertical-align: middle;\n",
       "    }\n",
       "\n",
       "    .dataframe tbody tr th {\n",
       "        vertical-align: top;\n",
       "    }\n",
       "\n",
       "    .dataframe thead th {\n",
       "        text-align: right;\n",
       "    }\n",
       "</style>\n",
       "<table border=\"1\" class=\"dataframe\">\n",
       "  <thead>\n",
       "    <tr style=\"text-align: right;\">\n",
       "      <th></th>\n",
       "      <th>stars</th>\n",
       "      <th>comment</th>\n",
       "    </tr>\n",
       "  </thead>\n",
       "  <tbody>\n",
       "    <tr>\n",
       "      <th>0</th>\n",
       "      <td>4.0 out of 5 stars</td>\n",
       "      <td>\\n\\n\\n\\n\\n\\n\\n\\n  \\n  \\n    I am first time pu...</td>\n",
       "    </tr>\n",
       "    <tr>\n",
       "      <th>1</th>\n",
       "      <td>4.0 out of 5 stars</td>\n",
       "      <td>\\n\\n\\n\\n\\n\\n\\n\\n  \\n  \\n    Bahut hi sundar fr...</td>\n",
       "    </tr>\n",
       "    <tr>\n",
       "      <th>2</th>\n",
       "      <td>4.0 out of 5 stars</td>\n",
       "      <td>\\n\\n\\n\\n\\n\\n\\n\\n  \\n  \\n    Looking good, fine...</td>\n",
       "    </tr>\n",
       "    <tr>\n",
       "      <th>3</th>\n",
       "      <td>4.0 out of 5 stars</td>\n",
       "      <td>\\n\\n\\n\\n\\n\\n\\n\\n  \\n  \\n    Best in this range...</td>\n",
       "    </tr>\n",
       "    <tr>\n",
       "      <th>4</th>\n",
       "      <td>4.0 out of 5 stars</td>\n",
       "      <td>\\n\\n\\n\\n\\n\\n\\n\\n  \\n  \\n    Super product\\n  \\n</td>\n",
       "    </tr>\n",
       "    <tr>\n",
       "      <th>...</th>\n",
       "      <td>...</td>\n",
       "      <td>...</td>\n",
       "    </tr>\n",
       "    <tr>\n",
       "      <th>1175</th>\n",
       "      <td>5.0 out of 5 stars</td>\n",
       "      <td>\\n\\n\\n\\n\\n\\n\\n\\n  \\n  \\n    This is a very goo...</td>\n",
       "    </tr>\n",
       "    <tr>\n",
       "      <th>1176</th>\n",
       "      <td>5.0 out of 5 stars</td>\n",
       "      <td>\\n\\n\\n\\n\\n\\n\\n\\n  \\n  \\n    I am satisfied wit...</td>\n",
       "    </tr>\n",
       "    <tr>\n",
       "      <th>1177</th>\n",
       "      <td>5.0 out of 5 stars</td>\n",
       "      <td>\\n\\n\\n\\n\\n\\n\\n\\n  \\n  \\n    Okay\\n  \\n</td>\n",
       "    </tr>\n",
       "    <tr>\n",
       "      <th>1178</th>\n",
       "      <td>3.0 out of 5 stars</td>\n",
       "      <td>\\n\\n\\n\\n\\n\\n\\n\\n  \\n  \\n    Delivery of the pr...</td>\n",
       "    </tr>\n",
       "    <tr>\n",
       "      <th>1179</th>\n",
       "      <td>5.0 out of 5 stars</td>\n",
       "      <td>\\n\\n\\n\\n\\n\\n\\n\\n  \\n  \\n    Very good product\\...</td>\n",
       "    </tr>\n",
       "  </tbody>\n",
       "</table>\n",
       "<p>1180 rows × 2 columns</p>\n",
       "</div>"
      ],
      "text/plain": [
       "                   stars                                            comment\n",
       "0     4.0 out of 5 stars  \\n\\n\\n\\n\\n\\n\\n\\n  \\n  \\n    I am first time pu...\n",
       "1     4.0 out of 5 stars  \\n\\n\\n\\n\\n\\n\\n\\n  \\n  \\n    Bahut hi sundar fr...\n",
       "2     4.0 out of 5 stars  \\n\\n\\n\\n\\n\\n\\n\\n  \\n  \\n    Looking good, fine...\n",
       "3     4.0 out of 5 stars  \\n\\n\\n\\n\\n\\n\\n\\n  \\n  \\n    Best in this range...\n",
       "4     4.0 out of 5 stars    \\n\\n\\n\\n\\n\\n\\n\\n  \\n  \\n    Super product\\n  \\n\n",
       "...                  ...                                                ...\n",
       "1175  5.0 out of 5 stars  \\n\\n\\n\\n\\n\\n\\n\\n  \\n  \\n    This is a very goo...\n",
       "1176  5.0 out of 5 stars  \\n\\n\\n\\n\\n\\n\\n\\n  \\n  \\n    I am satisfied wit...\n",
       "1177  5.0 out of 5 stars             \\n\\n\\n\\n\\n\\n\\n\\n  \\n  \\n    Okay\\n  \\n\n",
       "1178  3.0 out of 5 stars  \\n\\n\\n\\n\\n\\n\\n\\n  \\n  \\n    Delivery of the pr...\n",
       "1179  5.0 out of 5 stars  \\n\\n\\n\\n\\n\\n\\n\\n  \\n  \\n    Very good product\\...\n",
       "\n",
       "[1180 rows x 2 columns]"
      ]
     },
     "execution_count": 3,
     "metadata": {},
     "output_type": "execute_result"
    }
   ],
   "source": [
    "# UPLOAD DATA \n",
    "\n",
    "df4=pd.read_csv('extract_reviews1.csv')\n",
    "df4"
   ]
  },
  {
   "cell_type": "code",
   "execution_count": 5,
   "id": "dd1ee60a",
   "metadata": {},
   "outputs": [
    {
     "data": {
      "text/html": [
       "<div>\n",
       "<style scoped>\n",
       "    .dataframe tbody tr th:only-of-type {\n",
       "        vertical-align: middle;\n",
       "    }\n",
       "\n",
       "    .dataframe tbody tr th {\n",
       "        vertical-align: top;\n",
       "    }\n",
       "\n",
       "    .dataframe thead th {\n",
       "        text-align: right;\n",
       "    }\n",
       "</style>\n",
       "<table border=\"1\" class=\"dataframe\">\n",
       "  <thead>\n",
       "    <tr style=\"text-align: right;\">\n",
       "      <th></th>\n",
       "      <th>comment</th>\n",
       "    </tr>\n",
       "  </thead>\n",
       "  <tbody>\n",
       "    <tr>\n",
       "      <th>0</th>\n",
       "      <td>\\n\\n\\n\\n\\n\\n\\n\\n  \\n  \\n    I am first time pu...</td>\n",
       "    </tr>\n",
       "    <tr>\n",
       "      <th>1</th>\n",
       "      <td>\\n\\n\\n\\n\\n\\n\\n\\n  \\n  \\n    Bahut hi sundar fr...</td>\n",
       "    </tr>\n",
       "    <tr>\n",
       "      <th>2</th>\n",
       "      <td>\\n\\n\\n\\n\\n\\n\\n\\n  \\n  \\n    Looking good, fine...</td>\n",
       "    </tr>\n",
       "    <tr>\n",
       "      <th>3</th>\n",
       "      <td>\\n\\n\\n\\n\\n\\n\\n\\n  \\n  \\n    Best in this range...</td>\n",
       "    </tr>\n",
       "    <tr>\n",
       "      <th>4</th>\n",
       "      <td>\\n\\n\\n\\n\\n\\n\\n\\n  \\n  \\n    Super product\\n  \\n</td>\n",
       "    </tr>\n",
       "    <tr>\n",
       "      <th>...</th>\n",
       "      <td>...</td>\n",
       "    </tr>\n",
       "    <tr>\n",
       "      <th>1175</th>\n",
       "      <td>\\n\\n\\n\\n\\n\\n\\n\\n  \\n  \\n    This is a very goo...</td>\n",
       "    </tr>\n",
       "    <tr>\n",
       "      <th>1176</th>\n",
       "      <td>\\n\\n\\n\\n\\n\\n\\n\\n  \\n  \\n    I am satisfied wit...</td>\n",
       "    </tr>\n",
       "    <tr>\n",
       "      <th>1177</th>\n",
       "      <td>\\n\\n\\n\\n\\n\\n\\n\\n  \\n  \\n    Okay\\n  \\n</td>\n",
       "    </tr>\n",
       "    <tr>\n",
       "      <th>1178</th>\n",
       "      <td>\\n\\n\\n\\n\\n\\n\\n\\n  \\n  \\n    Delivery of the pr...</td>\n",
       "    </tr>\n",
       "    <tr>\n",
       "      <th>1179</th>\n",
       "      <td>\\n\\n\\n\\n\\n\\n\\n\\n  \\n  \\n    Very good product\\...</td>\n",
       "    </tr>\n",
       "  </tbody>\n",
       "</table>\n",
       "<p>1180 rows × 1 columns</p>\n",
       "</div>"
      ],
      "text/plain": [
       "                                                comment\n",
       "0     \\n\\n\\n\\n\\n\\n\\n\\n  \\n  \\n    I am first time pu...\n",
       "1     \\n\\n\\n\\n\\n\\n\\n\\n  \\n  \\n    Bahut hi sundar fr...\n",
       "2     \\n\\n\\n\\n\\n\\n\\n\\n  \\n  \\n    Looking good, fine...\n",
       "3     \\n\\n\\n\\n\\n\\n\\n\\n  \\n  \\n    Best in this range...\n",
       "4       \\n\\n\\n\\n\\n\\n\\n\\n  \\n  \\n    Super product\\n  \\n\n",
       "...                                                 ...\n",
       "1175  \\n\\n\\n\\n\\n\\n\\n\\n  \\n  \\n    This is a very goo...\n",
       "1176  \\n\\n\\n\\n\\n\\n\\n\\n  \\n  \\n    I am satisfied wit...\n",
       "1177             \\n\\n\\n\\n\\n\\n\\n\\n  \\n  \\n    Okay\\n  \\n\n",
       "1178  \\n\\n\\n\\n\\n\\n\\n\\n  \\n  \\n    Delivery of the pr...\n",
       "1179  \\n\\n\\n\\n\\n\\n\\n\\n  \\n  \\n    Very good product\\...\n",
       "\n",
       "[1180 rows x 1 columns]"
      ]
     },
     "execution_count": 5,
     "metadata": {},
     "output_type": "execute_result"
    }
   ],
   "source": [
    "# DROP 'stars' COLUMNS\n",
    "\n",
    "df5=df4.drop(['stars'], axis=1)\n",
    "df5"
   ]
  },
  {
   "cell_type": "code",
   "execution_count": 6,
   "id": "5e3a78c2",
   "metadata": {},
   "outputs": [
    {
     "data": {
      "text/plain": [
       "0       i am first time purchase samsung 183 litre ref...\n",
       "1                                  bahut hi sundar fridge\n",
       "2           looking good, fine, but side heating is there\n",
       "3                                      best in this range\n",
       "4                                           super product\n",
       "                              ...                        \n",
       "1175    this is a very good product for the price.but ...\n",
       "1176    i am satisfied with the purchase. home deliver...\n",
       "1177                                                 okay\n",
       "1178    delivery of the product is too late and one tr...\n",
       "1179                                    very good product\n",
       "Name: comment, Length: 1180, dtype: object"
      ]
     },
     "execution_count": 6,
     "metadata": {},
     "output_type": "execute_result"
    }
   ],
   "source": [
    "# CONVERT ALL DATA INTO LOWER CASE\n",
    "\n",
    "df5['comment'] = df5['comment'].apply(lambda x: \" \".join(x.lower() for x in x.split()))\n",
    "df5['comment']"
   ]
  },
  {
   "cell_type": "code",
   "execution_count": 7,
   "id": "0913cba5",
   "metadata": {},
   "outputs": [
    {
     "name": "stderr",
     "output_type": "stream",
     "text": [
      "c:\\users\\babar ali\\appdata\\local\\programs\\python\\python37\\lib\\site-packages\\ipykernel_launcher.py:3: FutureWarning: The default value of regex will change from True to False in a future version.\n",
      "  This is separate from the ipykernel package so we can avoid doing imports until\n"
     ]
    },
    {
     "data": {
      "text/plain": [
       "0    i am first time purchase samsung 183 litre ref...\n",
       "1                               bahut hi sundar fridge\n",
       "2          looking good fine but side heating is there\n",
       "3                                   best in this range\n",
       "4                                        super product\n",
       "Name: comment, dtype: object"
      ]
     },
     "execution_count": 7,
     "metadata": {},
     "output_type": "execute_result"
    }
   ],
   "source": [
    "# Removing Punctuation\n",
    "\n",
    "df5['comment'] = df5['comment'].str.replace('[^\\w\\s]','')\n",
    "df5['comment'].head()"
   ]
  },
  {
   "cell_type": "code",
   "execution_count": 8,
   "id": "36ef88d0",
   "metadata": {},
   "outputs": [
    {
     "data": {
      "text/plain": [
       "0    first time purchase samsung 183 litre refriger...\n",
       "1                               bahut hi sundar fridge\n",
       "2                       looking good fine side heating\n",
       "3                                           best range\n",
       "4                                        super product\n",
       "Name: comment, dtype: object"
      ]
     },
     "execution_count": 8,
     "metadata": {},
     "output_type": "execute_result"
    }
   ],
   "source": [
    "# Removal of Stop Words\n",
    "\n",
    "stop = stopwords.words('english')\n",
    "df5['comment'] = df5['comment'].apply(lambda x: \" \".join(x for x in x.split() if x not in stop))\n",
    "df5['comment'].head()"
   ]
  },
  {
   "cell_type": "code",
   "execution_count": 15,
   "id": "b33dceb9",
   "metadata": {},
   "outputs": [
    {
     "data": {
      "text/plain": [
       "product     590\n",
       "purchase    472\n",
       "good        472\n",
       "delivery    354\n",
       "first       236\n",
       "happy       236\n",
       "time        236\n",
       "one         236\n",
       "fridge      236\n",
       "nice        236\n",
       "dtype: int64"
      ]
     },
     "execution_count": 15,
     "metadata": {},
     "output_type": "execute_result"
    }
   ],
   "source": [
    " # Common word removal\n",
    "    \n",
    "freq1 = pd.Series(' '.join(df5['comment']).split()).value_counts()[:10]\n",
    "freq1"
   ]
  },
  {
   "cell_type": "code",
   "execution_count": 16,
   "id": "1db848f0",
   "metadata": {},
   "outputs": [
    {
     "data": {
      "text/plain": [
       "0    samsung 183 litre refrigerator thank amazon\n",
       "1                                bahut hi sundar\n",
       "2                      looking fine side heating\n",
       "3                                     best range\n",
       "4                                          super\n",
       "Name: comment, dtype: object"
      ]
     },
     "execution_count": 16,
     "metadata": {},
     "output_type": "execute_result"
    }
   ],
   "source": [
    "freq1 = list(freq1.index)\n",
    "df5['comment'] = df5['comment'].apply(lambda x: \" \".join(x for x in x.split() if x not in freq1))\n",
    "df5['comment'].head()"
   ]
  },
  {
   "cell_type": "code",
   "execution_count": 20,
   "id": "ea377b08",
   "metadata": {},
   "outputs": [
    {
     "data": {
      "text/plain": [
       "fine        118\n",
       "side        118\n",
       "heating     118\n",
       "best        118\n",
       "range       118\n",
       "super       118\n",
       "pricebut    118\n",
       "getting     118\n",
       "hotat       118\n",
       "missing     118\n",
       "dtype: int64"
      ]
     },
     "execution_count": 20,
     "metadata": {},
     "output_type": "execute_result"
    }
   ],
   "source": [
    "# Rare Words Removal\n",
    "\n",
    "freq2 = pd.Series(' '.join(df5['comment']).split()).value_counts()[-10:]\n",
    "freq2"
   ]
  },
  {
   "cell_type": "code",
   "execution_count": 21,
   "id": "2d0de213",
   "metadata": {},
   "outputs": [
    {
     "data": {
      "text/plain": [
       "0    samsung 183 litre refrigerator thank amazon\n",
       "1                                bahut hi sundar\n",
       "2                                        looking\n",
       "3                                               \n",
       "4                                               \n",
       "Name: comment, dtype: object"
      ]
     },
     "execution_count": 21,
     "metadata": {},
     "output_type": "execute_result"
    }
   ],
   "source": [
    "freq2 = list(freq2.index)\n",
    "df5['comment'] = df5['comment'].apply(lambda x: \" \".join(x for x in x.split() if x not in freq2))\n",
    "df5['comment'].head()"
   ]
  },
  {
   "cell_type": "code",
   "execution_count": 22,
   "id": "ac1ecc7c",
   "metadata": {},
   "outputs": [
    {
     "data": {
      "text/plain": [
       "WordList(['bahut', 'hi', 'sundar'])"
      ]
     },
     "execution_count": 22,
     "metadata": {},
     "output_type": "execute_result"
    }
   ],
   "source": [
    "# Tokenization\n",
    "\n",
    "TextBlob(df5['comment'][1]).words\n"
   ]
  },
  {
   "cell_type": "code",
   "execution_count": 23,
   "id": "1ae06e69",
   "metadata": {},
   "outputs": [
    {
     "name": "stderr",
     "output_type": "stream",
     "text": [
      "[nltk_data] Error loading punkt: <urlopen error [WinError 10060] A\n",
      "[nltk_data]     connection attempt failed because the connected party\n",
      "[nltk_data]     did not properly respond after a period of time, or\n",
      "[nltk_data]     established connection failed because connected host\n",
      "[nltk_data]     has failed to respond>\n"
     ]
    },
    {
     "data": {
      "text/plain": [
       "False"
      ]
     },
     "execution_count": 23,
     "metadata": {},
     "output_type": "execute_result"
    }
   ],
   "source": [
    "import nltk\n",
    "nltk.download('punkt')"
   ]
  },
  {
   "cell_type": "code",
   "execution_count": 24,
   "id": "6d7f07fe",
   "metadata": {},
   "outputs": [
    {
     "data": {
      "text/plain": [
       "0    samsung 183 litre refrigerator thank amazon\n",
       "1                                bahut hi sundar\n",
       "2                                        looking\n",
       "3                                               \n",
       "4                                               \n",
       "Name: comment, dtype: object"
      ]
     },
     "execution_count": 24,
     "metadata": {},
     "output_type": "execute_result"
    }
   ],
   "source": [
    "# Lemmatization\n",
    "\n",
    "from textblob import Word\n",
    "\n",
    "df5['comment'] = df5['comment'].apply(lambda x: \" \".join([Word(word).lemmatize() for word in x.split()]))\n",
    "df5['comment'].head()"
   ]
  },
  {
   "cell_type": "code",
   "execution_count": 25,
   "id": "205e5266",
   "metadata": {},
   "outputs": [
    {
     "data": {
      "text/plain": [
       "0    (0.0, 0.0)\n",
       "1    (0.0, 0.0)\n",
       "2    (0.0, 0.0)\n",
       "3    (0.0, 0.0)\n",
       "4    (0.0, 0.0)\n",
       "Name: comment, dtype: object"
      ]
     },
     "execution_count": 25,
     "metadata": {},
     "output_type": "execute_result"
    }
   ],
   "source": [
    "# Sentiment Analysis\n",
    "\n",
    "df5['comment'][:5].apply(lambda x: TextBlob(x).sentiment)"
   ]
  },
  {
   "cell_type": "code",
   "execution_count": 26,
   "id": "8c109691",
   "metadata": {},
   "outputs": [
    {
     "data": {
      "text/html": [
       "<div>\n",
       "<style scoped>\n",
       "    .dataframe tbody tr th:only-of-type {\n",
       "        vertical-align: middle;\n",
       "    }\n",
       "\n",
       "    .dataframe tbody tr th {\n",
       "        vertical-align: top;\n",
       "    }\n",
       "\n",
       "    .dataframe thead th {\n",
       "        text-align: right;\n",
       "    }\n",
       "</style>\n",
       "<table border=\"1\" class=\"dataframe\">\n",
       "  <thead>\n",
       "    <tr style=\"text-align: right;\">\n",
       "      <th></th>\n",
       "      <th>comment</th>\n",
       "      <th>sentiment</th>\n",
       "    </tr>\n",
       "  </thead>\n",
       "  <tbody>\n",
       "    <tr>\n",
       "      <th>0</th>\n",
       "      <td>samsung 183 litre refrigerator thank amazon</td>\n",
       "      <td>0.0</td>\n",
       "    </tr>\n",
       "    <tr>\n",
       "      <th>1</th>\n",
       "      <td>bahut hi sundar</td>\n",
       "      <td>0.0</td>\n",
       "    </tr>\n",
       "    <tr>\n",
       "      <th>2</th>\n",
       "      <td>looking</td>\n",
       "      <td>0.0</td>\n",
       "    </tr>\n",
       "    <tr>\n",
       "      <th>3</th>\n",
       "      <td></td>\n",
       "      <td>0.0</td>\n",
       "    </tr>\n",
       "    <tr>\n",
       "      <th>4</th>\n",
       "      <td></td>\n",
       "      <td>0.0</td>\n",
       "    </tr>\n",
       "  </tbody>\n",
       "</table>\n",
       "</div>"
      ],
      "text/plain": [
       "                                       comment  sentiment\n",
       "0  samsung 183 litre refrigerator thank amazon        0.0\n",
       "1                              bahut hi sundar        0.0\n",
       "2                                      looking        0.0\n",
       "3                                                     0.0\n",
       "4                                                     0.0"
      ]
     },
     "execution_count": 26,
     "metadata": {},
     "output_type": "execute_result"
    }
   ],
   "source": [
    "df5['sentiment'] = df5['comment'].apply(lambda x: TextBlob(x).sentiment[0] )\n",
    "df5[['comment','sentiment']].head()"
   ]
  },
  {
   "cell_type": "code",
   "execution_count": 27,
   "id": "d14c9fa1",
   "metadata": {},
   "outputs": [
    {
     "data": {
      "text/html": [
       "<div>\n",
       "<style scoped>\n",
       "    .dataframe tbody tr th:only-of-type {\n",
       "        vertical-align: middle;\n",
       "    }\n",
       "\n",
       "    .dataframe tbody tr th {\n",
       "        vertical-align: top;\n",
       "    }\n",
       "\n",
       "    .dataframe thead th {\n",
       "        text-align: right;\n",
       "    }\n",
       "</style>\n",
       "<table border=\"1\" class=\"dataframe\">\n",
       "  <thead>\n",
       "    <tr style=\"text-align: right;\">\n",
       "      <th></th>\n",
       "      <th>sentiment</th>\n",
       "    </tr>\n",
       "  </thead>\n",
       "  <tbody>\n",
       "    <tr>\n",
       "      <th>0</th>\n",
       "      <td>0.000000</td>\n",
       "    </tr>\n",
       "    <tr>\n",
       "      <th>1</th>\n",
       "      <td>0.000000</td>\n",
       "    </tr>\n",
       "    <tr>\n",
       "      <th>2</th>\n",
       "      <td>0.000000</td>\n",
       "    </tr>\n",
       "    <tr>\n",
       "      <th>3</th>\n",
       "      <td>0.000000</td>\n",
       "    </tr>\n",
       "    <tr>\n",
       "      <th>4</th>\n",
       "      <td>0.000000</td>\n",
       "    </tr>\n",
       "    <tr>\n",
       "      <th>...</th>\n",
       "      <td>...</td>\n",
       "    </tr>\n",
       "    <tr>\n",
       "      <th>1175</th>\n",
       "      <td>0.000000</td>\n",
       "    </tr>\n",
       "    <tr>\n",
       "      <th>1176</th>\n",
       "      <td>0.366667</td>\n",
       "    </tr>\n",
       "    <tr>\n",
       "      <th>1177</th>\n",
       "      <td>0.500000</td>\n",
       "    </tr>\n",
       "    <tr>\n",
       "      <th>1178</th>\n",
       "      <td>-0.300000</td>\n",
       "    </tr>\n",
       "    <tr>\n",
       "      <th>1179</th>\n",
       "      <td>0.000000</td>\n",
       "    </tr>\n",
       "  </tbody>\n",
       "</table>\n",
       "<p>1180 rows × 1 columns</p>\n",
       "</div>"
      ],
      "text/plain": [
       "      sentiment\n",
       "0      0.000000\n",
       "1      0.000000\n",
       "2      0.000000\n",
       "3      0.000000\n",
       "4      0.000000\n",
       "...         ...\n",
       "1175   0.000000\n",
       "1176   0.366667\n",
       "1177   0.500000\n",
       "1178  -0.300000\n",
       "1179   0.000000\n",
       "\n",
       "[1180 rows x 1 columns]"
      ]
     },
     "execution_count": 27,
     "metadata": {},
     "output_type": "execute_result"
    }
   ],
   "source": [
    "df6=df5['sentiment']\n",
    "\n",
    "df7=pd.DataFrame({'sentiment':df6})\n",
    "df7"
   ]
  },
  {
   "cell_type": "code",
   "execution_count": 28,
   "id": "6376c28d",
   "metadata": {},
   "outputs": [
    {
     "data": {
      "text/html": [
       "<div>\n",
       "<style scoped>\n",
       "    .dataframe tbody tr th:only-of-type {\n",
       "        vertical-align: middle;\n",
       "    }\n",
       "\n",
       "    .dataframe tbody tr th {\n",
       "        vertical-align: top;\n",
       "    }\n",
       "\n",
       "    .dataframe thead th {\n",
       "        text-align: right;\n",
       "    }\n",
       "</style>\n",
       "<table border=\"1\" class=\"dataframe\">\n",
       "  <thead>\n",
       "    <tr style=\"text-align: right;\">\n",
       "      <th></th>\n",
       "      <th>sentiment</th>\n",
       "      <th>sentiment_status</th>\n",
       "    </tr>\n",
       "  </thead>\n",
       "  <tbody>\n",
       "    <tr>\n",
       "      <th>0</th>\n",
       "      <td>0.000000</td>\n",
       "      <td>Neutral</td>\n",
       "    </tr>\n",
       "    <tr>\n",
       "      <th>1</th>\n",
       "      <td>0.000000</td>\n",
       "      <td>Neutral</td>\n",
       "    </tr>\n",
       "    <tr>\n",
       "      <th>2</th>\n",
       "      <td>0.000000</td>\n",
       "      <td>Neutral</td>\n",
       "    </tr>\n",
       "    <tr>\n",
       "      <th>3</th>\n",
       "      <td>0.000000</td>\n",
       "      <td>Neutral</td>\n",
       "    </tr>\n",
       "    <tr>\n",
       "      <th>4</th>\n",
       "      <td>0.000000</td>\n",
       "      <td>Neutral</td>\n",
       "    </tr>\n",
       "    <tr>\n",
       "      <th>...</th>\n",
       "      <td>...</td>\n",
       "      <td>...</td>\n",
       "    </tr>\n",
       "    <tr>\n",
       "      <th>1175</th>\n",
       "      <td>0.000000</td>\n",
       "      <td>Neutral</td>\n",
       "    </tr>\n",
       "    <tr>\n",
       "      <th>1176</th>\n",
       "      <td>0.366667</td>\n",
       "      <td>positive</td>\n",
       "    </tr>\n",
       "    <tr>\n",
       "      <th>1177</th>\n",
       "      <td>0.500000</td>\n",
       "      <td>positive</td>\n",
       "    </tr>\n",
       "    <tr>\n",
       "      <th>1178</th>\n",
       "      <td>-0.300000</td>\n",
       "      <td>Negative</td>\n",
       "    </tr>\n",
       "    <tr>\n",
       "      <th>1179</th>\n",
       "      <td>0.000000</td>\n",
       "      <td>Neutral</td>\n",
       "    </tr>\n",
       "  </tbody>\n",
       "</table>\n",
       "<p>1180 rows × 2 columns</p>\n",
       "</div>"
      ],
      "text/plain": [
       "      sentiment sentiment_status\n",
       "0      0.000000          Neutral\n",
       "1      0.000000          Neutral\n",
       "2      0.000000          Neutral\n",
       "3      0.000000          Neutral\n",
       "4      0.000000          Neutral\n",
       "...         ...              ...\n",
       "1175   0.000000          Neutral\n",
       "1176   0.366667         positive\n",
       "1177   0.500000         positive\n",
       "1178  -0.300000         Negative\n",
       "1179   0.000000          Neutral\n",
       "\n",
       "[1180 rows x 2 columns]"
      ]
     },
     "execution_count": 28,
     "metadata": {},
     "output_type": "execute_result"
    }
   ],
   "source": [
    "# comment status\n",
    "df7['sentiment_status'] = df7['sentiment'].apply(lambda x: 'Negative' if x <0 else ('Neutral' if x==0 else 'positive'))\n",
    "\n",
    "df7"
   ]
  },
  {
   "cell_type": "code",
   "execution_count": 29,
   "id": "8d2529ba",
   "metadata": {},
   "outputs": [
    {
     "data": {
      "text/plain": [
       "Neutral     826\n",
       "positive    236\n",
       "Negative    118\n",
       "Name: sentiment_status, dtype: int64"
      ]
     },
     "execution_count": 29,
     "metadata": {},
     "output_type": "execute_result"
    }
   ],
   "source": [
    "# NUMBER OF POSITIVE, NEGATIVE AND NEUTRAL REVIEWS OF SAMSUNG refrigerator ON AMAZON \n",
    "\n",
    "df7['sentiment_status'].value_counts()"
   ]
  }
 ],
 "metadata": {
  "kernelspec": {
   "display_name": "Python 3 (ipykernel)",
   "language": "python",
   "name": "python3"
  },
  "language_info": {
   "codemirror_mode": {
    "name": "ipython",
    "version": 3
   },
   "file_extension": ".py",
   "mimetype": "text/x-python",
   "name": "python",
   "nbconvert_exporter": "python",
   "pygments_lexer": "ipython3",
   "version": "3.7.4"
  }
 },
 "nbformat": 4,
 "nbformat_minor": 5
}
